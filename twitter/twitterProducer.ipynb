{
 "cells": [
  {
   "cell_type": "markdown",
   "metadata": {},
   "source": [
    "### Twitter Producer\n",
    "\n",
    "**Original Author:** Walker Rowe.<br/>\n",
    "**With modification of:** Astrid Krickl.<br/>\n",
    "**Additional Info:** Working with Streaming Twitter Data Using Kafka. https://www.bmc.com/blogs/working-streaming-twitter-data-using-kafka/<br/>"
   ]
  },
  {
   "cell_type": "code",
   "execution_count": null,
   "metadata": {},
   "outputs": [],
   "source": [
    "# Install a pip package in the current Jupyter kernel\n",
    "import sys\n",
    "!{sys.executable} -m pip install tweepy\n",
    "!{sys.executable} -m pip install kafka-python"
   ]
  },
  {
   "cell_type": "code",
   "execution_count": null,
   "metadata": {},
   "outputs": [],
   "source": [
    "# Import the tweepy, kafka and json modules \n",
    "from tweepy.streaming import StreamListener\n",
    "from tweepy import OAuthHandler\n",
    "from tweepy import Stream\n",
    "from kafka import KafkaProducer\n",
    "import json\n",
    "\n",
    "# Setup Twitter access token variables\n",
    "consumer_key = '*consumer_key*'\n",
    "consumer_secret = '*consumer_secret*'\n",
    "access_token = '*access_token*'\n",
    "access_secret ='*access_secret*'"
   ]
  },
  {
   "cell_type": "markdown",
   "metadata": {},
   "source": [
    "#### Creating a stream listener class\n",
    "* on_data - called when raw data is received from connection, publishes a message to a weather topic\n",
    "* on_error - called when a non-200 status code is returned, prints error"
   ]
  },
  {
   "cell_type": "code",
   "execution_count": null,
   "metadata": {},
   "outputs": [],
   "source": [
    "class StdOutListener(StreamListener):\n",
    "    \n",
    "    def on_data(self, data):\n",
    "        producer.send(\"weather\", data.encode('utf-8'))\n",
    "        return True\n",
    "    \n",
    "    def on_error(self, status):\n",
    "        print ('Error: ', status)"
   ]
  },
  {
   "cell_type": "markdown",
   "metadata": {},
   "source": [
    "#### Starting Stream\n",
    "* Preparing producer, StdOutListener, OAuthHandler (setting access tokens), Stream object\n",
    "* Setting location bounding boxes\n",
    "    * First two parameters are lon, lat of south-west border\n",
    "    * Third and fourth parameters are lon, lat of north-east border\n",
    "    * Chosen cities in order: London, Dublin, Belfast, Manchester, Liverpool, Miami, LA, Dallas \n",
    "* Starting the stream with filter on location\n",
    "\n",
    "As stream was regularly crashing, we implemented an infinite while loop that restarted the stream when an exception was thrown. \n",
    "\n",
    "Unexpected error: (<class 'urllib3.exceptions.ProtocolError'>, ProtocolError('Connection broken: IncompleteRead(0 bytes read)', IncompleteRead(0 bytes read)), <traceback object at 0x7fac792e4b80>)"
   ]
  },
  {
   "cell_type": "code",
   "execution_count": null,
   "metadata": {},
   "outputs": [],
   "source": [
    "# Encapsulate the code in try except blocks\n",
    "try:    \n",
    "    # Publish a message to a topic\n",
    "    producer = KafkaProducer(bootstrap_servers='localhost:9092')\n",
    "\n",
    "    # Create a StdOutListener object\n",
    "    l = StdOutListener()\n",
    "\n",
    "    # Create a OAuth authentication handler object\n",
    "    auth = OAuthHandler(consumer_key, consumer_secret)\n",
    "\n",
    "    # Set the tweepy access tokenes\n",
    "    auth.set_access_token(access_token, access_secret)\n",
    "\n",
    "    # Create a Stream object\n",
    "    stream = Stream(auth, l)\n",
    "    \n",
    "    location = [-0.72, 51.31, 0.55, 51.71,\\\n",
    "                -6.49, 53.25, -6.1, 53.41,\\\n",
    "                -6.11, 54.5, -5.8, 54.7,\\\n",
    "                -2.49, 53.3, -2.01, 53.66,\\\n",
    "                -3.12, 53.31, -2.85, 53.5,\\\n",
    "                -80.68, 25.5, -79.93, 26.9,\\\n",
    "                -118.5, 33.51, -116.79, 34.4,\\\n",
    "                -97.57, 32.33, -96.42, 33.35]\n",
    "    #London, Dublin, Belfast, Manchester, Liverpool, Miami, LA, Dallas \n",
    "    while(True):\n",
    "        try:\n",
    "            # Filter the stream for all tweets containing the search locations. \n",
    "            stream.filter(locations=location)\n",
    "        except:\n",
    "            print(\"Prob. connection broken, restarting\")\n",
    "            continue\n",
    "    \n",
    "except:\n",
    "    # Print the error\n",
    "    print(\"Unexpected error:\", sys.exc_info())"
   ]
  }
 ],
 "metadata": {
  "kernelspec": {
   "display_name": "Python 3",
   "language": "python",
   "name": "python3"
  },
  "language_info": {
   "codemirror_mode": {
    "name": "ipython",
    "version": 3
   },
   "file_extension": ".py",
   "mimetype": "text/x-python",
   "name": "python",
   "nbconvert_exporter": "python",
   "pygments_lexer": "ipython3",
   "version": "3.8.6"
  }
 },
 "nbformat": 4,
 "nbformat_minor": 4
}
